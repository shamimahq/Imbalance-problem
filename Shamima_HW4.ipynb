{
 "cells": [
  {
   "cell_type": "markdown",
   "id": "dbba2bc1",
   "metadata": {},
   "source": [
    "Using the machine learning algorithm: Decision Tree, and the S1_Originaldata.csv database with cells into neoplastic astrocytes from the periphery, i.e., infiltrating neoplastic cells, and the tumor core:\n",
    "a) Apply some technique to solve the class imbalance problem present in the database, and evaluate the performance (80 pts)\n",
    "b) Discuss the results obtained (different metrics) (20 pts)\n"
   ]
  },
  {
   "cell_type": "code",
   "execution_count": 94,
   "id": "ee7ed318",
   "metadata": {},
   "outputs": [],
   "source": [
    "# All necessary Imports\n",
    "# libraries \n",
    "import pandas as pd\n",
    "import numpy as np\n",
    "import seaborn as sns\n",
    "from sklearn.model_selection import train_test_split\n",
    "from sklearn.model_selection import StratifiedKFold\n",
    "\n",
    "#Visualizers\n",
    "\n",
    "import matplotlib.pyplot as plt\n",
    "\n",
    "#Metrics\n",
    "from sklearn.metrics import cohen_kappa_score\n",
    "from sklearn.metrics import hamming_loss\n",
    "from sklearn.metrics import log_loss\n",
    "from sklearn.metrics import zero_one_loss\n",
    "from sklearn.metrics import matthews_corrcoef\n",
    "#Classifiers\n",
    "from sklearn.neighbors import KNeighborsClassifier \n",
    "from sklearn.linear_model import LogisticRegression\n",
    "from sklearn.ensemble import RandomForestClassifier\n",
    "from sklearn import svm\n"
   ]
  },
  {
   "cell_type": "code",
   "execution_count": 95,
   "id": "b1e84cbe",
   "metadata": {},
   "outputs": [],
   "source": [
    "from time import time\n",
    "\n",
    "%matplotlib inline\n",
    "import matplotlib as mpl\n",
    "import matplotlib.pyplot as plt\n",
    "import matplotlib.colors as colors\n",
    "from mpl_toolkits.axes_grid1 import make_axes_locatable\n",
    "from pandas import set_option\n",
    "from sklearn.metrics import confusion_matrix\n",
    "\n",
    "from sklearn.metrics import accuracy_score\n",
    "from sklearn.metrics import f1_score\n",
    "from sklearn.metrics import recall_score\n",
    "from sklearn.metrics import precision_score\n",
    "from sklearn.metrics import classification_report\n",
    "\n",
    "from sklearn import model_selection\n",
    "from sklearn.linear_model import LogisticRegression\n",
    "from sklearn.neighbors import KNeighborsClassifier\n",
    "from sklearn.discriminant_analysis import LinearDiscriminantAnalysis\n",
    "from sklearn.naive_bayes import GaussianNB\n",
    "from sklearn.svm import SVC\n",
    "from sklearn.neural_network import MLPClassifier\n",
    "from sklearn.ensemble import RandomForestRegressor\n",
    "from sklearn.cluster import KMeans\n",
    "from sklearn.ensemble import RandomForestClassifier\n",
    "from sklearn.tree import DecisionTreeClassifier\n",
    "from sklearn.model_selection import GridSearchCV\n",
    "\n",
    "import seaborn as sns; sns.set() \n",
    "from sklearn.metrics import plot_confusion_matrix\n",
    "import pandas as pd\n",
    "from sklearn.cluster import KMeans\n",
    "from sklearn import metrics\n",
    "import re\n",
    "from numpy import random\n",
    "import seaborn as sb\n",
    "import matplotlib.pyplot as plt\n",
    "import warnings\n",
    "warnings.filterwarnings('ignore')\n",
    "\n",
    "\n",
    "df = pd.read_csv('S1_Originaldata.csv')"
   ]
  },
  {
   "cell_type": "code",
   "execution_count": 96,
   "id": "3a7d7f93",
   "metadata": {},
   "outputs": [
    {
     "data": {
      "text/html": [
       "<div>\n",
       "<style scoped>\n",
       "    .dataframe tbody tr th:only-of-type {\n",
       "        vertical-align: middle;\n",
       "    }\n",
       "\n",
       "    .dataframe tbody tr th {\n",
       "        vertical-align: top;\n",
       "    }\n",
       "\n",
       "    .dataframe thead th {\n",
       "        text-align: right;\n",
       "    }\n",
       "</style>\n",
       "<table border=\"1\" class=\"dataframe\">\n",
       "  <thead>\n",
       "    <tr style=\"text-align: right;\">\n",
       "      <th></th>\n",
       "      <th>class</th>\n",
       "      <th>1/2-SBSRNA4</th>\n",
       "      <th>A1BG</th>\n",
       "      <th>A1BG-AS1</th>\n",
       "      <th>A1CF</th>\n",
       "      <th>A2LD1</th>\n",
       "      <th>A2M</th>\n",
       "      <th>A2ML1</th>\n",
       "      <th>A2MP1</th>\n",
       "      <th>A4GALT</th>\n",
       "      <th>...</th>\n",
       "      <th>PPP1R2P3</th>\n",
       "      <th>PPP1R2P9</th>\n",
       "      <th>PPP1R32</th>\n",
       "      <th>PPP1R35</th>\n",
       "      <th>PPP1R36</th>\n",
       "      <th>PPP1R37</th>\n",
       "      <th>PPP1R3A</th>\n",
       "      <th>PPP1R3B</th>\n",
       "      <th>PPP1R3C</th>\n",
       "      <th>PPP1R3D</th>\n",
       "    </tr>\n",
       "  </thead>\n",
       "  <tbody>\n",
       "    <tr>\n",
       "      <th>0</th>\n",
       "      <td>Neoplastic_Core</td>\n",
       "      <td>0.0</td>\n",
       "      <td>0.000000</td>\n",
       "      <td>0.0</td>\n",
       "      <td>0.0</td>\n",
       "      <td>0.0</td>\n",
       "      <td>0.000000</td>\n",
       "      <td>0.0</td>\n",
       "      <td>0.0</td>\n",
       "      <td>0</td>\n",
       "      <td>...</td>\n",
       "      <td>0.000000</td>\n",
       "      <td>0</td>\n",
       "      <td>0.0</td>\n",
       "      <td>0.0</td>\n",
       "      <td>0.0</td>\n",
       "      <td>0.0</td>\n",
       "      <td>0</td>\n",
       "      <td>0.0</td>\n",
       "      <td>0.0</td>\n",
       "      <td>0.0</td>\n",
       "    </tr>\n",
       "    <tr>\n",
       "      <th>1</th>\n",
       "      <td>Neoplastic_Core</td>\n",
       "      <td>0.0</td>\n",
       "      <td>0.000000</td>\n",
       "      <td>0.0</td>\n",
       "      <td>0.0</td>\n",
       "      <td>0.0</td>\n",
       "      <td>0.000000</td>\n",
       "      <td>0.0</td>\n",
       "      <td>0.0</td>\n",
       "      <td>0</td>\n",
       "      <td>...</td>\n",
       "      <td>1.487372</td>\n",
       "      <td>0</td>\n",
       "      <td>0.0</td>\n",
       "      <td>0.0</td>\n",
       "      <td>0.0</td>\n",
       "      <td>0.0</td>\n",
       "      <td>0</td>\n",
       "      <td>0.0</td>\n",
       "      <td>0.0</td>\n",
       "      <td>0.0</td>\n",
       "    </tr>\n",
       "    <tr>\n",
       "      <th>2</th>\n",
       "      <td>Neoplastic_Core</td>\n",
       "      <td>0.0</td>\n",
       "      <td>0.000000</td>\n",
       "      <td>0.0</td>\n",
       "      <td>0.0</td>\n",
       "      <td>0.0</td>\n",
       "      <td>3.812781</td>\n",
       "      <td>0.0</td>\n",
       "      <td>0.0</td>\n",
       "      <td>0</td>\n",
       "      <td>...</td>\n",
       "      <td>0.000000</td>\n",
       "      <td>0</td>\n",
       "      <td>0.0</td>\n",
       "      <td>0.0</td>\n",
       "      <td>0.0</td>\n",
       "      <td>0.0</td>\n",
       "      <td>0</td>\n",
       "      <td>0.0</td>\n",
       "      <td>0.0</td>\n",
       "      <td>0.0</td>\n",
       "    </tr>\n",
       "    <tr>\n",
       "      <th>3</th>\n",
       "      <td>Neoplastic_Core</td>\n",
       "      <td>0.0</td>\n",
       "      <td>0.000000</td>\n",
       "      <td>0.0</td>\n",
       "      <td>0.0</td>\n",
       "      <td>0.0</td>\n",
       "      <td>0.000000</td>\n",
       "      <td>0.0</td>\n",
       "      <td>0.0</td>\n",
       "      <td>0</td>\n",
       "      <td>...</td>\n",
       "      <td>0.000000</td>\n",
       "      <td>0</td>\n",
       "      <td>0.0</td>\n",
       "      <td>0.0</td>\n",
       "      <td>0.0</td>\n",
       "      <td>0.0</td>\n",
       "      <td>0</td>\n",
       "      <td>0.0</td>\n",
       "      <td>0.0</td>\n",
       "      <td>0.0</td>\n",
       "    </tr>\n",
       "    <tr>\n",
       "      <th>4</th>\n",
       "      <td>Neoplastic_Core</td>\n",
       "      <td>0.0</td>\n",
       "      <td>0.000000</td>\n",
       "      <td>0.0</td>\n",
       "      <td>0.0</td>\n",
       "      <td>0.0</td>\n",
       "      <td>0.000000</td>\n",
       "      <td>0.0</td>\n",
       "      <td>0.0</td>\n",
       "      <td>0</td>\n",
       "      <td>...</td>\n",
       "      <td>0.000000</td>\n",
       "      <td>0</td>\n",
       "      <td>0.0</td>\n",
       "      <td>0.0</td>\n",
       "      <td>0.0</td>\n",
       "      <td>0.0</td>\n",
       "      <td>0</td>\n",
       "      <td>0.0</td>\n",
       "      <td>0.0</td>\n",
       "      <td>0.0</td>\n",
       "    </tr>\n",
       "    <tr>\n",
       "      <th>5</th>\n",
       "      <td>Neoplastic_Core</td>\n",
       "      <td>0.0</td>\n",
       "      <td>7.469771</td>\n",
       "      <td>0.0</td>\n",
       "      <td>0.0</td>\n",
       "      <td>0.0</td>\n",
       "      <td>0.000000</td>\n",
       "      <td>0.0</td>\n",
       "      <td>0.0</td>\n",
       "      <td>0</td>\n",
       "      <td>...</td>\n",
       "      <td>0.000000</td>\n",
       "      <td>0</td>\n",
       "      <td>0.0</td>\n",
       "      <td>0.0</td>\n",
       "      <td>0.0</td>\n",
       "      <td>0.0</td>\n",
       "      <td>0</td>\n",
       "      <td>0.0</td>\n",
       "      <td>0.0</td>\n",
       "      <td>0.0</td>\n",
       "    </tr>\n",
       "    <tr>\n",
       "      <th>6</th>\n",
       "      <td>Neoplastic_Core</td>\n",
       "      <td>0.0</td>\n",
       "      <td>0.000000</td>\n",
       "      <td>0.0</td>\n",
       "      <td>0.0</td>\n",
       "      <td>0.0</td>\n",
       "      <td>0.000000</td>\n",
       "      <td>0.0</td>\n",
       "      <td>0.0</td>\n",
       "      <td>0</td>\n",
       "      <td>...</td>\n",
       "      <td>0.000000</td>\n",
       "      <td>0</td>\n",
       "      <td>0.0</td>\n",
       "      <td>0.0</td>\n",
       "      <td>0.0</td>\n",
       "      <td>0.0</td>\n",
       "      <td>0</td>\n",
       "      <td>0.0</td>\n",
       "      <td>0.0</td>\n",
       "      <td>0.0</td>\n",
       "    </tr>\n",
       "    <tr>\n",
       "      <th>7</th>\n",
       "      <td>Neoplastic_Core</td>\n",
       "      <td>0.0</td>\n",
       "      <td>0.000000</td>\n",
       "      <td>0.0</td>\n",
       "      <td>0.0</td>\n",
       "      <td>0.0</td>\n",
       "      <td>0.000000</td>\n",
       "      <td>0.0</td>\n",
       "      <td>0.0</td>\n",
       "      <td>0</td>\n",
       "      <td>...</td>\n",
       "      <td>0.000000</td>\n",
       "      <td>0</td>\n",
       "      <td>0.0</td>\n",
       "      <td>0.0</td>\n",
       "      <td>0.0</td>\n",
       "      <td>0.0</td>\n",
       "      <td>0</td>\n",
       "      <td>0.0</td>\n",
       "      <td>0.0</td>\n",
       "      <td>0.0</td>\n",
       "    </tr>\n",
       "    <tr>\n",
       "      <th>8</th>\n",
       "      <td>Neoplastic_Core</td>\n",
       "      <td>0.0</td>\n",
       "      <td>0.000000</td>\n",
       "      <td>0.0</td>\n",
       "      <td>0.0</td>\n",
       "      <td>0.0</td>\n",
       "      <td>0.000000</td>\n",
       "      <td>0.0</td>\n",
       "      <td>0.0</td>\n",
       "      <td>0</td>\n",
       "      <td>...</td>\n",
       "      <td>0.000000</td>\n",
       "      <td>0</td>\n",
       "      <td>0.0</td>\n",
       "      <td>0.0</td>\n",
       "      <td>0.0</td>\n",
       "      <td>0.0</td>\n",
       "      <td>0</td>\n",
       "      <td>0.0</td>\n",
       "      <td>0.0</td>\n",
       "      <td>0.0</td>\n",
       "    </tr>\n",
       "    <tr>\n",
       "      <th>9</th>\n",
       "      <td>Neoplastic_Core</td>\n",
       "      <td>0.0</td>\n",
       "      <td>0.000000</td>\n",
       "      <td>0.0</td>\n",
       "      <td>0.0</td>\n",
       "      <td>0.0</td>\n",
       "      <td>0.000000</td>\n",
       "      <td>0.0</td>\n",
       "      <td>0.0</td>\n",
       "      <td>0</td>\n",
       "      <td>...</td>\n",
       "      <td>0.000000</td>\n",
       "      <td>0</td>\n",
       "      <td>0.0</td>\n",
       "      <td>0.0</td>\n",
       "      <td>0.0</td>\n",
       "      <td>0.0</td>\n",
       "      <td>0</td>\n",
       "      <td>0.0</td>\n",
       "      <td>0.0</td>\n",
       "      <td>0.0</td>\n",
       "    </tr>\n",
       "  </tbody>\n",
       "</table>\n",
       "<p>10 rows × 16384 columns</p>\n",
       "</div>"
      ],
      "text/plain": [
       "             class  1/2-SBSRNA4      A1BG  A1BG-AS1  A1CF  A2LD1       A2M  \\\n",
       "0  Neoplastic_Core          0.0  0.000000       0.0   0.0    0.0  0.000000   \n",
       "1  Neoplastic_Core          0.0  0.000000       0.0   0.0    0.0  0.000000   \n",
       "2  Neoplastic_Core          0.0  0.000000       0.0   0.0    0.0  3.812781   \n",
       "3  Neoplastic_Core          0.0  0.000000       0.0   0.0    0.0  0.000000   \n",
       "4  Neoplastic_Core          0.0  0.000000       0.0   0.0    0.0  0.000000   \n",
       "5  Neoplastic_Core          0.0  7.469771       0.0   0.0    0.0  0.000000   \n",
       "6  Neoplastic_Core          0.0  0.000000       0.0   0.0    0.0  0.000000   \n",
       "7  Neoplastic_Core          0.0  0.000000       0.0   0.0    0.0  0.000000   \n",
       "8  Neoplastic_Core          0.0  0.000000       0.0   0.0    0.0  0.000000   \n",
       "9  Neoplastic_Core          0.0  0.000000       0.0   0.0    0.0  0.000000   \n",
       "\n",
       "   A2ML1  A2MP1  A4GALT  ...  PPP1R2P3  PPP1R2P9  PPP1R32  PPP1R35  PPP1R36  \\\n",
       "0    0.0    0.0       0  ...  0.000000         0      0.0      0.0      0.0   \n",
       "1    0.0    0.0       0  ...  1.487372         0      0.0      0.0      0.0   \n",
       "2    0.0    0.0       0  ...  0.000000         0      0.0      0.0      0.0   \n",
       "3    0.0    0.0       0  ...  0.000000         0      0.0      0.0      0.0   \n",
       "4    0.0    0.0       0  ...  0.000000         0      0.0      0.0      0.0   \n",
       "5    0.0    0.0       0  ...  0.000000         0      0.0      0.0      0.0   \n",
       "6    0.0    0.0       0  ...  0.000000         0      0.0      0.0      0.0   \n",
       "7    0.0    0.0       0  ...  0.000000         0      0.0      0.0      0.0   \n",
       "8    0.0    0.0       0  ...  0.000000         0      0.0      0.0      0.0   \n",
       "9    0.0    0.0       0  ...  0.000000         0      0.0      0.0      0.0   \n",
       "\n",
       "   PPP1R37  PPP1R3A  PPP1R3B  PPP1R3C  PPP1R3D  \n",
       "0      0.0        0      0.0      0.0      0.0  \n",
       "1      0.0        0      0.0      0.0      0.0  \n",
       "2      0.0        0      0.0      0.0      0.0  \n",
       "3      0.0        0      0.0      0.0      0.0  \n",
       "4      0.0        0      0.0      0.0      0.0  \n",
       "5      0.0        0      0.0      0.0      0.0  \n",
       "6      0.0        0      0.0      0.0      0.0  \n",
       "7      0.0        0      0.0      0.0      0.0  \n",
       "8      0.0        0      0.0      0.0      0.0  \n",
       "9      0.0        0      0.0      0.0      0.0  \n",
       "\n",
       "[10 rows x 16384 columns]"
      ]
     },
     "execution_count": 96,
     "metadata": {},
     "output_type": "execute_result"
    }
   ],
   "source": [
    "df.head(10)"
   ]
  },
  {
   "cell_type": "code",
   "execution_count": 97,
   "id": "4b12498b",
   "metadata": {},
   "outputs": [
    {
     "name": "stdout",
     "output_type": "stream",
     "text": [
      "       1/2-SBSRNA4        A1BG    A1BG-AS1        A1CF       A2LD1  \\\n",
      "count   444.000000  444.000000  444.000000  444.000000  444.000000   \n",
      "mean      0.281286    1.300646    0.218221    0.043053    0.169951   \n",
      "std       1.448833    2.474125    1.103586    0.567969    1.023480   \n",
      "min       0.000000    0.000000    0.000000    0.000000    0.000000   \n",
      "25%       0.000000    0.000000    0.000000    0.000000    0.000000   \n",
      "50%       0.000000    0.000000    0.000000    0.000000    0.000000   \n",
      "75%       0.000000    0.000000    0.000000    0.000000    0.000000   \n",
      "max       9.515390    9.235368    8.587576    8.715006    9.315997   \n",
      "\n",
      "              A2M       A2ML1       A2MP1  A4GALT       A4GNT  ...  \\\n",
      "count  444.000000  444.000000  444.000000   444.0  444.000000  ...   \n",
      "mean     0.966699    0.308724    0.034910     0.0    0.019368  ...   \n",
      "std      2.856530    1.524655    0.468207     0.0    0.342199  ...   \n",
      "min      0.000000    0.000000    0.000000     0.0    0.000000  ...   \n",
      "25%      0.000000    0.000000    0.000000     0.0    0.000000  ...   \n",
      "50%      0.000000    0.000000    0.000000     0.0    0.000000  ...   \n",
      "75%      0.000000    0.000000    0.000000     0.0    0.000000  ...   \n",
      "max     14.432504    9.786054    7.939351     0.0    7.044394  ...   \n",
      "\n",
      "         PPP1R2P3  PPP1R2P9     PPP1R32     PPP1R35     PPP1R36     PPP1R37  \\\n",
      "count  444.000000     444.0  444.000000  444.000000  444.000000  444.000000   \n",
      "mean     0.129347       0.0    0.186652    1.500870    0.168991    0.059058   \n",
      "std      0.482201       0.0    1.083458    2.676177    1.034354    0.502183   \n",
      "min      0.000000       0.0    0.000000    0.000000    0.000000    0.000000   \n",
      "25%      0.000000       0.0    0.000000    0.000000    0.000000    0.000000   \n",
      "50%      0.000000       0.0    0.000000    0.000000    0.000000    0.000000   \n",
      "75%      0.000000       0.0    0.000000    2.762115    0.000000    0.000000   \n",
      "max      3.053072       0.0    8.149755   10.759567    8.607547    7.653209   \n",
      "\n",
      "       PPP1R3A     PPP1R3B     PPP1R3C     PPP1R3D  \n",
      "count    444.0  444.000000  444.000000  444.000000  \n",
      "mean       0.0    0.274012    0.578264    0.138385  \n",
      "std        0.0    1.252474    2.071382    0.950394  \n",
      "min        0.0    0.000000    0.000000    0.000000  \n",
      "25%        0.0    0.000000    0.000000    0.000000  \n",
      "50%        0.0    0.000000    0.000000    0.000000  \n",
      "75%        0.0    0.000000    0.000000    0.000000  \n",
      "max        0.0   10.029919   11.223894    9.566267  \n",
      "\n",
      "[8 rows x 16383 columns]\n",
      "class\n",
      "Neoplastic_Core         386\n",
      "Neoplastic_Periphery     58\n",
      "dtype: int64\n"
     ]
    }
   ],
   "source": [
    "print(df.describe())\n",
    "\n",
    "print(df.groupby('class').size())"
   ]
  },
  {
   "cell_type": "code",
   "execution_count": 98,
   "id": "8a4c26c4",
   "metadata": {},
   "outputs": [
    {
     "data": {
      "text/html": [
       "<div>\n",
       "<style scoped>\n",
       "    .dataframe tbody tr th:only-of-type {\n",
       "        vertical-align: middle;\n",
       "    }\n",
       "\n",
       "    .dataframe tbody tr th {\n",
       "        vertical-align: top;\n",
       "    }\n",
       "\n",
       "    .dataframe thead th {\n",
       "        text-align: right;\n",
       "    }\n",
       "</style>\n",
       "<table border=\"1\" class=\"dataframe\">\n",
       "  <thead>\n",
       "    <tr style=\"text-align: right;\">\n",
       "      <th></th>\n",
       "      <th>class</th>\n",
       "      <th>1/2-SBSRNA4</th>\n",
       "      <th>A1BG</th>\n",
       "      <th>A1BG-AS1</th>\n",
       "      <th>A1CF</th>\n",
       "      <th>A2LD1</th>\n",
       "      <th>A2M</th>\n",
       "      <th>A2ML1</th>\n",
       "      <th>A2MP1</th>\n",
       "      <th>A4GALT</th>\n",
       "      <th>...</th>\n",
       "      <th>PPP1R2P3</th>\n",
       "      <th>PPP1R2P9</th>\n",
       "      <th>PPP1R32</th>\n",
       "      <th>PPP1R35</th>\n",
       "      <th>PPP1R36</th>\n",
       "      <th>PPP1R37</th>\n",
       "      <th>PPP1R3A</th>\n",
       "      <th>PPP1R3B</th>\n",
       "      <th>PPP1R3C</th>\n",
       "      <th>PPP1R3D</th>\n",
       "    </tr>\n",
       "  </thead>\n",
       "  <tbody>\n",
       "    <tr>\n",
       "      <th>0</th>\n",
       "      <td>0</td>\n",
       "      <td>0.0</td>\n",
       "      <td>0.0</td>\n",
       "      <td>0.0</td>\n",
       "      <td>0.0</td>\n",
       "      <td>0.0</td>\n",
       "      <td>0.000000</td>\n",
       "      <td>0.000000</td>\n",
       "      <td>0.0</td>\n",
       "      <td>0</td>\n",
       "      <td>...</td>\n",
       "      <td>0.000000</td>\n",
       "      <td>0</td>\n",
       "      <td>0.0</td>\n",
       "      <td>0.0</td>\n",
       "      <td>0.0</td>\n",
       "      <td>0.0</td>\n",
       "      <td>0</td>\n",
       "      <td>0.0</td>\n",
       "      <td>0.0</td>\n",
       "      <td>0.000000</td>\n",
       "    </tr>\n",
       "    <tr>\n",
       "      <th>1</th>\n",
       "      <td>0</td>\n",
       "      <td>0.0</td>\n",
       "      <td>0.0</td>\n",
       "      <td>0.0</td>\n",
       "      <td>0.0</td>\n",
       "      <td>0.0</td>\n",
       "      <td>0.000000</td>\n",
       "      <td>0.000000</td>\n",
       "      <td>0.0</td>\n",
       "      <td>0</td>\n",
       "      <td>...</td>\n",
       "      <td>1.487372</td>\n",
       "      <td>0</td>\n",
       "      <td>0.0</td>\n",
       "      <td>0.0</td>\n",
       "      <td>0.0</td>\n",
       "      <td>0.0</td>\n",
       "      <td>0</td>\n",
       "      <td>0.0</td>\n",
       "      <td>0.0</td>\n",
       "      <td>0.000000</td>\n",
       "    </tr>\n",
       "    <tr>\n",
       "      <th>2</th>\n",
       "      <td>0</td>\n",
       "      <td>0.0</td>\n",
       "      <td>0.0</td>\n",
       "      <td>0.0</td>\n",
       "      <td>0.0</td>\n",
       "      <td>0.0</td>\n",
       "      <td>3.812781</td>\n",
       "      <td>0.000000</td>\n",
       "      <td>0.0</td>\n",
       "      <td>0</td>\n",
       "      <td>...</td>\n",
       "      <td>0.000000</td>\n",
       "      <td>0</td>\n",
       "      <td>0.0</td>\n",
       "      <td>0.0</td>\n",
       "      <td>0.0</td>\n",
       "      <td>0.0</td>\n",
       "      <td>0</td>\n",
       "      <td>0.0</td>\n",
       "      <td>0.0</td>\n",
       "      <td>0.000000</td>\n",
       "    </tr>\n",
       "    <tr>\n",
       "      <th>3</th>\n",
       "      <td>0</td>\n",
       "      <td>0.0</td>\n",
       "      <td>0.0</td>\n",
       "      <td>0.0</td>\n",
       "      <td>0.0</td>\n",
       "      <td>0.0</td>\n",
       "      <td>0.000000</td>\n",
       "      <td>0.000000</td>\n",
       "      <td>0.0</td>\n",
       "      <td>0</td>\n",
       "      <td>...</td>\n",
       "      <td>0.000000</td>\n",
       "      <td>0</td>\n",
       "      <td>0.0</td>\n",
       "      <td>0.0</td>\n",
       "      <td>0.0</td>\n",
       "      <td>0.0</td>\n",
       "      <td>0</td>\n",
       "      <td>0.0</td>\n",
       "      <td>0.0</td>\n",
       "      <td>0.000000</td>\n",
       "    </tr>\n",
       "    <tr>\n",
       "      <th>4</th>\n",
       "      <td>0</td>\n",
       "      <td>0.0</td>\n",
       "      <td>0.0</td>\n",
       "      <td>0.0</td>\n",
       "      <td>0.0</td>\n",
       "      <td>0.0</td>\n",
       "      <td>0.000000</td>\n",
       "      <td>0.000000</td>\n",
       "      <td>0.0</td>\n",
       "      <td>0</td>\n",
       "      <td>...</td>\n",
       "      <td>0.000000</td>\n",
       "      <td>0</td>\n",
       "      <td>0.0</td>\n",
       "      <td>0.0</td>\n",
       "      <td>0.0</td>\n",
       "      <td>0.0</td>\n",
       "      <td>0</td>\n",
       "      <td>0.0</td>\n",
       "      <td>0.0</td>\n",
       "      <td>0.000000</td>\n",
       "    </tr>\n",
       "    <tr>\n",
       "      <th>...</th>\n",
       "      <td>...</td>\n",
       "      <td>...</td>\n",
       "      <td>...</td>\n",
       "      <td>...</td>\n",
       "      <td>...</td>\n",
       "      <td>...</td>\n",
       "      <td>...</td>\n",
       "      <td>...</td>\n",
       "      <td>...</td>\n",
       "      <td>...</td>\n",
       "      <td>...</td>\n",
       "      <td>...</td>\n",
       "      <td>...</td>\n",
       "      <td>...</td>\n",
       "      <td>...</td>\n",
       "      <td>...</td>\n",
       "      <td>...</td>\n",
       "      <td>...</td>\n",
       "      <td>...</td>\n",
       "      <td>...</td>\n",
       "      <td>...</td>\n",
       "    </tr>\n",
       "    <tr>\n",
       "      <th>439</th>\n",
       "      <td>1</td>\n",
       "      <td>0.0</td>\n",
       "      <td>0.0</td>\n",
       "      <td>0.0</td>\n",
       "      <td>0.0</td>\n",
       "      <td>0.0</td>\n",
       "      <td>0.000000</td>\n",
       "      <td>0.000000</td>\n",
       "      <td>0.0</td>\n",
       "      <td>0</td>\n",
       "      <td>...</td>\n",
       "      <td>0.000000</td>\n",
       "      <td>0</td>\n",
       "      <td>0.0</td>\n",
       "      <td>0.0</td>\n",
       "      <td>0.0</td>\n",
       "      <td>0.0</td>\n",
       "      <td>0</td>\n",
       "      <td>0.0</td>\n",
       "      <td>0.0</td>\n",
       "      <td>0.000000</td>\n",
       "    </tr>\n",
       "    <tr>\n",
       "      <th>440</th>\n",
       "      <td>1</td>\n",
       "      <td>0.0</td>\n",
       "      <td>0.0</td>\n",
       "      <td>0.0</td>\n",
       "      <td>0.0</td>\n",
       "      <td>0.0</td>\n",
       "      <td>0.000000</td>\n",
       "      <td>0.000000</td>\n",
       "      <td>0.0</td>\n",
       "      <td>0</td>\n",
       "      <td>...</td>\n",
       "      <td>0.000000</td>\n",
       "      <td>0</td>\n",
       "      <td>0.0</td>\n",
       "      <td>0.0</td>\n",
       "      <td>0.0</td>\n",
       "      <td>0.0</td>\n",
       "      <td>0</td>\n",
       "      <td>0.0</td>\n",
       "      <td>0.0</td>\n",
       "      <td>0.000000</td>\n",
       "    </tr>\n",
       "    <tr>\n",
       "      <th>441</th>\n",
       "      <td>1</td>\n",
       "      <td>0.0</td>\n",
       "      <td>0.0</td>\n",
       "      <td>0.0</td>\n",
       "      <td>0.0</td>\n",
       "      <td>0.0</td>\n",
       "      <td>0.000000</td>\n",
       "      <td>3.531913</td>\n",
       "      <td>0.0</td>\n",
       "      <td>0</td>\n",
       "      <td>...</td>\n",
       "      <td>0.000000</td>\n",
       "      <td>0</td>\n",
       "      <td>0.0</td>\n",
       "      <td>0.0</td>\n",
       "      <td>0.0</td>\n",
       "      <td>0.0</td>\n",
       "      <td>0</td>\n",
       "      <td>0.0</td>\n",
       "      <td>0.0</td>\n",
       "      <td>7.641366</td>\n",
       "    </tr>\n",
       "    <tr>\n",
       "      <th>442</th>\n",
       "      <td>1</td>\n",
       "      <td>0.0</td>\n",
       "      <td>0.0</td>\n",
       "      <td>0.0</td>\n",
       "      <td>0.0</td>\n",
       "      <td>0.0</td>\n",
       "      <td>0.000000</td>\n",
       "      <td>0.000000</td>\n",
       "      <td>0.0</td>\n",
       "      <td>0</td>\n",
       "      <td>...</td>\n",
       "      <td>0.000000</td>\n",
       "      <td>0</td>\n",
       "      <td>0.0</td>\n",
       "      <td>0.0</td>\n",
       "      <td>0.0</td>\n",
       "      <td>0.0</td>\n",
       "      <td>0</td>\n",
       "      <td>0.0</td>\n",
       "      <td>0.0</td>\n",
       "      <td>0.000000</td>\n",
       "    </tr>\n",
       "    <tr>\n",
       "      <th>443</th>\n",
       "      <td>1</td>\n",
       "      <td>0.0</td>\n",
       "      <td>0.0</td>\n",
       "      <td>0.0</td>\n",
       "      <td>0.0</td>\n",
       "      <td>0.0</td>\n",
       "      <td>10.140585</td>\n",
       "      <td>0.000000</td>\n",
       "      <td>0.0</td>\n",
       "      <td>0</td>\n",
       "      <td>...</td>\n",
       "      <td>0.000000</td>\n",
       "      <td>0</td>\n",
       "      <td>0.0</td>\n",
       "      <td>0.0</td>\n",
       "      <td>0.0</td>\n",
       "      <td>0.0</td>\n",
       "      <td>0</td>\n",
       "      <td>0.0</td>\n",
       "      <td>0.0</td>\n",
       "      <td>0.000000</td>\n",
       "    </tr>\n",
       "  </tbody>\n",
       "</table>\n",
       "<p>444 rows × 16384 columns</p>\n",
       "</div>"
      ],
      "text/plain": [
       "     class  1/2-SBSRNA4  A1BG  A1BG-AS1  A1CF  A2LD1        A2M     A2ML1  \\\n",
       "0        0          0.0   0.0       0.0   0.0    0.0   0.000000  0.000000   \n",
       "1        0          0.0   0.0       0.0   0.0    0.0   0.000000  0.000000   \n",
       "2        0          0.0   0.0       0.0   0.0    0.0   3.812781  0.000000   \n",
       "3        0          0.0   0.0       0.0   0.0    0.0   0.000000  0.000000   \n",
       "4        0          0.0   0.0       0.0   0.0    0.0   0.000000  0.000000   \n",
       "..     ...          ...   ...       ...   ...    ...        ...       ...   \n",
       "439      1          0.0   0.0       0.0   0.0    0.0   0.000000  0.000000   \n",
       "440      1          0.0   0.0       0.0   0.0    0.0   0.000000  0.000000   \n",
       "441      1          0.0   0.0       0.0   0.0    0.0   0.000000  3.531913   \n",
       "442      1          0.0   0.0       0.0   0.0    0.0   0.000000  0.000000   \n",
       "443      1          0.0   0.0       0.0   0.0    0.0  10.140585  0.000000   \n",
       "\n",
       "     A2MP1  A4GALT  ...  PPP1R2P3  PPP1R2P9  PPP1R32  PPP1R35  PPP1R36  \\\n",
       "0      0.0       0  ...  0.000000         0      0.0      0.0      0.0   \n",
       "1      0.0       0  ...  1.487372         0      0.0      0.0      0.0   \n",
       "2      0.0       0  ...  0.000000         0      0.0      0.0      0.0   \n",
       "3      0.0       0  ...  0.000000         0      0.0      0.0      0.0   \n",
       "4      0.0       0  ...  0.000000         0      0.0      0.0      0.0   \n",
       "..     ...     ...  ...       ...       ...      ...      ...      ...   \n",
       "439    0.0       0  ...  0.000000         0      0.0      0.0      0.0   \n",
       "440    0.0       0  ...  0.000000         0      0.0      0.0      0.0   \n",
       "441    0.0       0  ...  0.000000         0      0.0      0.0      0.0   \n",
       "442    0.0       0  ...  0.000000         0      0.0      0.0      0.0   \n",
       "443    0.0       0  ...  0.000000         0      0.0      0.0      0.0   \n",
       "\n",
       "     PPP1R37  PPP1R3A  PPP1R3B  PPP1R3C   PPP1R3D  \n",
       "0        0.0        0      0.0      0.0  0.000000  \n",
       "1        0.0        0      0.0      0.0  0.000000  \n",
       "2        0.0        0      0.0      0.0  0.000000  \n",
       "3        0.0        0      0.0      0.0  0.000000  \n",
       "4        0.0        0      0.0      0.0  0.000000  \n",
       "..       ...      ...      ...      ...       ...  \n",
       "439      0.0        0      0.0      0.0  0.000000  \n",
       "440      0.0        0      0.0      0.0  0.000000  \n",
       "441      0.0        0      0.0      0.0  7.641366  \n",
       "442      0.0        0      0.0      0.0  0.000000  \n",
       "443      0.0        0      0.0      0.0  0.000000  \n",
       "\n",
       "[444 rows x 16384 columns]"
      ]
     },
     "execution_count": 98,
     "metadata": {},
     "output_type": "execute_result"
    }
   ],
   "source": [
    "data = df\n",
    "classes = pd.get_dummies(df['class'])\n",
    "data['class'] = classes.values.argmax(1)\n",
    "df"
   ]
  },
  {
   "cell_type": "code",
   "execution_count": 99,
   "id": "3788e54f",
   "metadata": {},
   "outputs": [],
   "source": [
    "x = df.drop(['class'], axis=1)\n",
    "y = df['class']"
   ]
  },
  {
   "cell_type": "code",
   "execution_count": 100,
   "id": "e343edb4",
   "metadata": {},
   "outputs": [],
   "source": [
    "x_train, x_test, y_train, y_test = train_test_split(x, y, random_state=42)"
   ]
  },
  {
   "cell_type": "code",
   "execution_count": 101,
   "id": "143575f7",
   "metadata": {},
   "outputs": [
    {
     "data": {
      "text/plain": [
       "DecisionTreeClassifier()"
      ]
     },
     "execution_count": 101,
     "metadata": {},
     "output_type": "execute_result"
    }
   ],
   "source": [
    "tree = DecisionTreeClassifier() # decision tree algorithm\n",
    "tree.fit(x_train, y_train)"
   ]
  },
  {
   "cell_type": "code",
   "execution_count": 102,
   "id": "5d6128c3",
   "metadata": {},
   "outputs": [
    {
     "name": "stdout",
     "output_type": "stream",
     "text": [
      "Decision tree has 15 nodes with maximum depth 5.\n",
      "Model Accuracy: 1.0\n"
     ]
    }
   ],
   "source": [
    "print(f'Decision tree has {tree.tree_.node_count} nodes with maximum depth {tree.tree_.max_depth}.') \n",
    "print(f'Model Accuracy: {tree.score(x_train, y_train)}')"
   ]
  },
  {
   "cell_type": "code",
   "execution_count": 103,
   "id": "1e040c28",
   "metadata": {},
   "outputs": [
    {
     "name": "stdout",
     "output_type": "stream",
     "text": [
      "              precision    recall  f1-score   support\n",
      "\n",
      "           0       0.92      0.96      0.94        91\n",
      "           1       0.75      0.60      0.67        20\n",
      "\n",
      "    accuracy                           0.89       111\n",
      "   macro avg       0.83      0.78      0.80       111\n",
      "weighted avg       0.89      0.89      0.89       111\n",
      "\n"
     ]
    }
   ],
   "source": [
    "y_pred = tree.predict(x_test) \n",
    "print(classification_report(y_test,y_pred))"
   ]
  },
  {
   "cell_type": "code",
   "execution_count": null,
   "id": "24177bdb",
   "metadata": {},
   "outputs": [],
   "source": [
    "Here, from the visualizing the unseen data of decision tree we see that the accuracy for the given data is 89% .\n",
    "sample is unbalaced. we can improve the accuracy rate by undersampling and oversampling method."
   ]
  },
  {
   "cell_type": "markdown",
   "id": "b179bc5f",
   "metadata": {},
   "source": [
    "We have balanced the unbalanced data to raise the accuracy rate."
   ]
  },
  {
   "cell_type": "markdown",
   "id": "3045bbc9",
   "metadata": {},
   "source": [
    "# Method1: Undersampling"
   ]
  },
  {
   "cell_type": "code",
   "execution_count": 105,
   "id": "bc0af72e",
   "metadata": {},
   "outputs": [
    {
     "data": {
      "text/plain": [
       "0    386\n",
       "1     58\n",
       "Name: class, dtype: int64"
      ]
     },
     "execution_count": 105,
     "metadata": {},
     "output_type": "execute_result"
    }
   ],
   "source": [
    "#Counts of classes in data\n",
    "df['class'].value_counts()"
   ]
  },
  {
   "cell_type": "code",
   "execution_count": 106,
   "id": "21fa06a2",
   "metadata": {},
   "outputs": [
    {
     "data": {
      "text/plain": [
       "0    386\n",
       "1     58\n",
       "Name: class, dtype: int64"
      ]
     },
     "execution_count": 106,
     "metadata": {},
     "output_type": "execute_result"
    }
   ],
   "source": [
    "# Obtain the class distribution\n",
    "df['class'].value_counts()"
   ]
  },
  {
   "cell_type": "code",
   "execution_count": 107,
   "id": "851e9261",
   "metadata": {},
   "outputs": [
    {
     "data": {
      "text/plain": [
       "(386, 58)"
      ]
     },
     "execution_count": 107,
     "metadata": {},
     "output_type": "execute_result"
    }
   ],
   "source": [
    "x,y = df['class'].value_counts()\n",
    "x,y"
   ]
  },
  {
   "cell_type": "code",
   "execution_count": 108,
   "id": "b0f550fc",
   "metadata": {},
   "outputs": [],
   "source": [
    "#class count\n",
    "count_class_0,count_class_1 = df['class'].value_counts()\n",
    "\n",
    "#divide by class\n",
    "df_class_0 = df[df['class'] == 0]\n",
    "df_class_1 = df[df['class'] == 1]"
   ]
  },
  {
   "cell_type": "code",
   "execution_count": 109,
   "id": "0260dfce",
   "metadata": {},
   "outputs": [
    {
     "data": {
      "text/plain": [
       "(386, 16384)"
      ]
     },
     "execution_count": 109,
     "metadata": {},
     "output_type": "execute_result"
    }
   ],
   "source": [
    "df_class_0.shape"
   ]
  },
  {
   "cell_type": "code",
   "execution_count": 110,
   "id": "cf6a51c2",
   "metadata": {},
   "outputs": [
    {
     "data": {
      "text/plain": [
       "(58, 16384)"
      ]
     },
     "execution_count": 110,
     "metadata": {},
     "output_type": "execute_result"
    }
   ],
   "source": [
    "df_class_1.shape\n"
   ]
  },
  {
   "cell_type": "code",
   "execution_count": 111,
   "id": "9184e150",
   "metadata": {},
   "outputs": [
    {
     "data": {
      "text/plain": [
       "(386, 58)"
      ]
     },
     "execution_count": 111,
     "metadata": {},
     "output_type": "execute_result"
    }
   ],
   "source": [
    "count_class_0, count_class_1"
   ]
  },
  {
   "cell_type": "code",
   "execution_count": 112,
   "id": "1540ae84",
   "metadata": {},
   "outputs": [
    {
     "data": {
      "text/plain": [
       "(58, 16384)"
      ]
     },
     "execution_count": 112,
     "metadata": {},
     "output_type": "execute_result"
    }
   ],
   "source": [
    "df_class_0.sample(count_class_1).shape"
   ]
  },
  {
   "cell_type": "code",
   "execution_count": 113,
   "id": "94ea2818",
   "metadata": {},
   "outputs": [
    {
     "data": {
      "text/plain": [
       "(116, 16384)"
      ]
     },
     "execution_count": 113,
     "metadata": {},
     "output_type": "execute_result"
    }
   ],
   "source": [
    "df_class_0_under = df_class_0.sample(count_class_1)\n",
    "\n",
    "df_test_under = pd.concat([df_class_0_under, df_class_1], axis=0)\n",
    "df_test_under.shape\n"
   ]
  },
  {
   "cell_type": "code",
   "execution_count": 114,
   "id": "7d6290ca",
   "metadata": {},
   "outputs": [
    {
     "name": "stdout",
     "output_type": "stream",
     "text": [
      "     class  1/2-SBSRNA4      A1BG  A1BG-AS1  A1CF     A2LD1        A2M  \\\n",
      "12       0          0.0  0.000000       0.0   0.0  0.000000   0.000000   \n",
      "291      0          0.0  5.009367       0.0   0.0  0.000000   0.000000   \n",
      "238      0          0.0  0.000000       0.0   0.0  2.261906  10.922497   \n",
      "45       0          0.0  0.000000       0.0   0.0  0.000000   0.000000   \n",
      "313      0          0.0  3.661454       0.0   0.0  0.000000   0.000000   \n",
      "..     ...          ...       ...       ...   ...       ...        ...   \n",
      "439      1          0.0  0.000000       0.0   0.0  0.000000   0.000000   \n",
      "440      1          0.0  0.000000       0.0   0.0  0.000000   0.000000   \n",
      "441      1          0.0  0.000000       0.0   0.0  0.000000   0.000000   \n",
      "442      1          0.0  0.000000       0.0   0.0  0.000000   0.000000   \n",
      "443      1          0.0  0.000000       0.0   0.0  0.000000  10.140585   \n",
      "\n",
      "        A2ML1  A2MP1  A4GALT  ...  PPP1R2P3  PPP1R2P9  PPP1R32   PPP1R35  \\\n",
      "12   0.000000    0.0       0  ...       0.0         0      0.0  0.000000   \n",
      "291  0.000000    0.0       0  ...       0.0         0      0.0  5.670544   \n",
      "238  0.000000    0.0       0  ...       0.0         0      0.0  5.948133   \n",
      "45   0.000000    0.0       0  ...       0.0         0      0.0  0.000000   \n",
      "313  0.000000    0.0       0  ...       0.0         0      0.0  7.013322   \n",
      "..        ...    ...     ...  ...       ...       ...      ...       ...   \n",
      "439  0.000000    0.0       0  ...       0.0         0      0.0  0.000000   \n",
      "440  0.000000    0.0       0  ...       0.0         0      0.0  0.000000   \n",
      "441  3.531913    0.0       0  ...       0.0         0      0.0  0.000000   \n",
      "442  0.000000    0.0       0  ...       0.0         0      0.0  0.000000   \n",
      "443  0.000000    0.0       0  ...       0.0         0      0.0  0.000000   \n",
      "\n",
      "     PPP1R36  PPP1R37  PPP1R3A  PPP1R3B  PPP1R3C   PPP1R3D  \n",
      "12       0.0      0.0        0      0.0      0.0  0.000000  \n",
      "291      0.0      0.0        0      0.0      0.0  0.000000  \n",
      "238      0.0      0.0        0      0.0      0.0  0.000000  \n",
      "45       0.0      0.0        0      0.0      0.0  0.000000  \n",
      "313      0.0      0.0        0      0.0      0.0  0.000000  \n",
      "..       ...      ...      ...      ...      ...       ...  \n",
      "439      0.0      0.0        0      0.0      0.0  0.000000  \n",
      "440      0.0      0.0        0      0.0      0.0  0.000000  \n",
      "441      0.0      0.0        0      0.0      0.0  7.641366  \n",
      "442      0.0      0.0        0      0.0      0.0  0.000000  \n",
      "443      0.0      0.0        0      0.0      0.0  0.000000  \n",
      "\n",
      "[116 rows x 16384 columns]\n"
     ]
    }
   ],
   "source": [
    "print(df_test_under)"
   ]
  },
  {
   "cell_type": "code",
   "execution_count": 115,
   "id": "ea47ac90",
   "metadata": {},
   "outputs": [],
   "source": [
    "x = df_test_under.drop('class',axis=1)\n",
    "y = df_test_under['class']\n"
   ]
  },
  {
   "cell_type": "code",
   "execution_count": 116,
   "id": "373bfad7",
   "metadata": {},
   "outputs": [],
   "source": [
    "x_train, x_test, y_train, y_test = train_test_split(x, y, random_state=42, stratify=y)"
   ]
  },
  {
   "cell_type": "code",
   "execution_count": 117,
   "id": "9c0f04ff",
   "metadata": {},
   "outputs": [
    {
     "data": {
      "text/plain": [
       "1    44\n",
       "0    43\n",
       "Name: class, dtype: int64"
      ]
     },
     "execution_count": 117,
     "metadata": {},
     "output_type": "execute_result"
    }
   ],
   "source": [
    "y_train.value_counts()"
   ]
  },
  {
   "cell_type": "code",
   "execution_count": 118,
   "id": "303bcc05",
   "metadata": {},
   "outputs": [
    {
     "data": {
      "text/plain": [
       "DecisionTreeClassifier()"
      ]
     },
     "execution_count": 118,
     "metadata": {},
     "output_type": "execute_result"
    }
   ],
   "source": [
    "tree = DecisionTreeClassifier() # decision tree algorithm\n",
    "tree.fit(x_train, y_train)"
   ]
  },
  {
   "cell_type": "code",
   "execution_count": 119,
   "id": "f47dba9d",
   "metadata": {},
   "outputs": [
    {
     "name": "stdout",
     "output_type": "stream",
     "text": [
      "Decision tree has 7 nodes with maximum depth 3.\n",
      "Model Accuracy: 1.0\n"
     ]
    }
   ],
   "source": [
    "print(f'Decision tree has {tree.tree_.node_count} nodes with maximum depth {tree.tree_.max_depth}.') \n",
    "print(f'Model Accuracy: {tree.score(x_train, y_train)}')"
   ]
  },
  {
   "cell_type": "code",
   "execution_count": 64,
   "id": "a37c162f",
   "metadata": {},
   "outputs": [
    {
     "name": "stdout",
     "output_type": "stream",
     "text": [
      "              precision    recall  f1-score   support\n",
      "\n",
      "           0       0.87      0.93      0.90        14\n",
      "           1       0.93      0.87      0.90        15\n",
      "\n",
      "    accuracy                           0.90        29\n",
      "   macro avg       0.90      0.90      0.90        29\n",
      "weighted avg       0.90      0.90      0.90        29\n",
      "\n"
     ]
    }
   ],
   "source": [
    "y_pred = tree.predict(x_test) \n",
    "print(classification_report(y_test,y_pred))"
   ]
  },
  {
   "cell_type": "markdown",
   "id": "12ba2ae9",
   "metadata": {},
   "source": [
    "Here, from the visualizing the unseen data of decision tree we see that the accuracy for the given data is 90% perfect which is very high.precision, recall, f1-score is also incresed."
   ]
  },
  {
   "cell_type": "markdown",
   "id": "6c5636e5",
   "metadata": {},
   "source": [
    "# Method2: Oversampling"
   ]
  },
  {
   "cell_type": "code",
   "execution_count": 120,
   "id": "9b4af49e",
   "metadata": {},
   "outputs": [
    {
     "data": {
      "text/plain": [
       "(386, 58)"
      ]
     },
     "execution_count": 120,
     "metadata": {},
     "output_type": "execute_result"
    }
   ],
   "source": [
    "count_class_0, count_class_1"
   ]
  },
  {
   "cell_type": "code",
   "execution_count": 121,
   "id": "8f77bec7",
   "metadata": {},
   "outputs": [
    {
     "data": {
      "text/plain": [
       "(772, 16384)"
      ]
     },
     "execution_count": 121,
     "metadata": {},
     "output_type": "execute_result"
    }
   ],
   "source": [
    "df_class_1_over = df_class_1.sample(count_class_0,replace=True)\n",
    "\n",
    "df_test_over = pd.concat([df_class_0, df_class_1_over], axis=0)\n",
    "df_test_over.shape"
   ]
  },
  {
   "cell_type": "code",
   "execution_count": 122,
   "id": "9793da95",
   "metadata": {},
   "outputs": [],
   "source": [
    "x = df_test_over.drop('class',axis=1)\n",
    "y = df_test_over['class']\n"
   ]
  },
  {
   "cell_type": "code",
   "execution_count": 123,
   "id": "f35a8159",
   "metadata": {},
   "outputs": [],
   "source": [
    "x_train, x_test, y_train, y_test = train_test_split(x, y, random_state=42, stratify=y)"
   ]
  },
  {
   "cell_type": "code",
   "execution_count": 124,
   "id": "6e799080",
   "metadata": {},
   "outputs": [
    {
     "data": {
      "text/plain": [
       "1    290\n",
       "0    289\n",
       "Name: class, dtype: int64"
      ]
     },
     "execution_count": 124,
     "metadata": {},
     "output_type": "execute_result"
    }
   ],
   "source": [
    "y_train.value_counts()"
   ]
  },
  {
   "cell_type": "code",
   "execution_count": 125,
   "id": "e658de31",
   "metadata": {},
   "outputs": [
    {
     "data": {
      "text/plain": [
       "DecisionTreeClassifier()"
      ]
     },
     "execution_count": 125,
     "metadata": {},
     "output_type": "execute_result"
    }
   ],
   "source": [
    "tree = DecisionTreeClassifier() # decision tree algorithm\n",
    "tree.fit(x_train, y_train)"
   ]
  },
  {
   "cell_type": "code",
   "execution_count": 127,
   "id": "7f4fd96d",
   "metadata": {},
   "outputs": [
    {
     "name": "stdout",
     "output_type": "stream",
     "text": [
      "              precision    recall  f1-score   support\n",
      "\n",
      "           0       1.00      0.96      0.98        97\n",
      "           1       0.96      1.00      0.98        96\n",
      "\n",
      "    accuracy                           0.98       193\n",
      "   macro avg       0.98      0.98      0.98       193\n",
      "weighted avg       0.98      0.98      0.98       193\n",
      "\n"
     ]
    }
   ],
   "source": [
    "y_pred = tree.predict(x_test) \n",
    "print(classification_report(y_test,y_pred))"
   ]
  },
  {
   "cell_type": "markdown",
   "id": "798064cb",
   "metadata": {},
   "source": [
    "Here, from the visualizing the unseen data of decision tree we see that the accuracy for the given data is 98% perfect which is very high. precision, recall, f1-score is also incresed."
   ]
  }
 ],
 "metadata": {
  "kernelspec": {
   "display_name": "Python 3",
   "language": "python",
   "name": "python3"
  },
  "language_info": {
   "codemirror_mode": {
    "name": "ipython",
    "version": 3
   },
   "file_extension": ".py",
   "mimetype": "text/x-python",
   "name": "python",
   "nbconvert_exporter": "python",
   "pygments_lexer": "ipython3",
   "version": "3.6.13"
  }
 },
 "nbformat": 4,
 "nbformat_minor": 5
}
